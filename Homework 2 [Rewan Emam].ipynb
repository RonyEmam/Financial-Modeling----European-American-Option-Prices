{
 "cells": [
  {
   "cell_type": "markdown",
   "metadata": {},
   "source": [
    "# The prices of the European put option"
   ]
  },
  {
   "cell_type": "markdown",
   "metadata": {},
   "source": [
    "### Find the prices of European option using ( CRR - Jarrow-Rudd - Leisen-Reimer ) methods:"
   ]
  },
  {
   "cell_type": "markdown",
   "metadata": {},
   "source": [
    "### First Method is: CRR Parameters\n",
    "\n",
    "\n",
    "**CRR model is:** a simple but very important model for the price of a single risky security.\n",
    "\n",
    "\n",
    "#### **At N = 300**  with CRR Method for European option"
   ]
  },
  {
   "cell_type": "code",
   "execution_count": 102,
   "metadata": {},
   "outputs": [
    {
     "name": "stdout",
     "output_type": "stream",
     "text": [
      "The European put option price at N = 300 is  24.6155\n"
     ]
    }
   ],
   "source": [
    "import pandas as pd          ## import from module scipy all functions \n",
    "import numpy as np          ## import from module numpy all functions \n",
    "def Eur_putprice(S0,E,T,N,r,sigma,cp):      ##  Defining the function Eur_putprice to calculate \n",
    "        ## the price of a European put option\n",
    "    dt=T/N\n",
    "    U=np.exp(sigma*np.sqrt(dt))\n",
    "    D=np.exp(-sigma*np.sqrt(dt))\n",
    "    R=(np.exp(r*dt))\n",
    "    q=(R-D)/(U-D)\n",
    "    ## defining delta_t, parameters U, D, R and risk-neutrall probability q\n",
    "    ## Here we use CRR parameters for U and D.\n",
    "    V_old=np.zeros(N+1)\n",
    "    V_new=np.zeros(N+1)\n",
    "    ## initializing two N+1 dimensional vectors with zeros to store option prices\n",
    "    for m in range(0,N+1):   ## cycle - m gets the values 0,1, ...,N \n",
    "        V_old[m]=max(S0*U**m*D**(N-m)-E,0)\n",
    "        ## first cycle - Computing the prices of the option (depending on the price S(T)=S0*U**D**(N-m)\n",
    "        ##at time T=N*dt (see formula V(N,m) for put option). The prices of the option at time T \n",
    "        ## equal to the payments at time T.\n",
    "    for j in range(N-1,-1,-1):\n",
    "        ## cycle for formula V(j,m), j=N-1, N-2,...,0  \n",
    "        for m in range(0,j+1):\n",
    "            V_new[m]=(q*V_old[m+1]+(1-q)*V_old[m])/R\n",
    "            ## computing the option prices at time j*dt if we know the prices at time (j+1)*dt. \n",
    "            ## (see formula for V(j,m))\n",
    "        for m in range(0,j+1):\n",
    "            V_old[m]=V_new[m]\n",
    "            ## after that the all option prices at time j*dt are known, we consider these prices as old prices. \n",
    "    return(V_new[0])\n",
    "    ## V_new[0] is the option price at t=0\n",
    "      \n",
    "print('The European put option price at N = 300 is %8.4f' % Eur_putprice(S0=100,E=98.5,T=2,N=300,r=0.03,sigma=np.sqrt(0.15),cp=-1)) \n",
    "## finding and printing European put option with parameters \n",
    "## S0=100,E=98.50,T=2,N=1000,r=0.03,sigma=np.sqrt(0.15),cp=-1."
   ]
  },
  {
   "cell_type": "markdown",
   "metadata": {},
   "source": [
    "#### **At N = 400**  with CRR Method for European option"
   ]
  },
  {
   "cell_type": "code",
   "execution_count": 103,
   "metadata": {},
   "outputs": [
    {
     "name": "stdout",
     "output_type": "stream",
     "text": [
      "The European put option price is  24.6155\n"
     ]
    }
   ],
   "source": [
    "import pandas as pd          ## import from module scipy all functions \n",
    "import numpy as np          ## import from module numpy all functions \n",
    "def Eur_putprice(S0,E,T,N,r,sigma,cp):      ##  Defining the function Eur_putprice to calculate \n",
    "        ## the price of a European put option\n",
    "    dt=T/N\n",
    "    U=np.exp(sigma*np.sqrt(dt))\n",
    "    D=np.exp(-sigma*np.sqrt(dt))\n",
    "    R=(np.exp(r*dt))\n",
    "    q=(R-D)/(U-D)\n",
    "    ## defining delta_t, parameters U, D, R and risk-neutrall probability q\n",
    "    ## Here we use CRR parameters for U and D.\n",
    "    V_old=np.zeros(N+1)\n",
    "    V_new=np.zeros(N+1)\n",
    "    ## initializing two N+1 dimensional vectors with zeros to store option prices\n",
    "    for m in range(0,N+1):   ## cycle - m gets the values 0,1, ...,N \n",
    "        V_old[m]=max(S0*U**m*D**(N-m)-E,0)\n",
    "        ## first cycle - Computing the prices of the option (depending on the price S(T)=S0*U**D**(N-m)\n",
    "        ##at time T=N*dt (see formula V(N,m) for put option). The prices of the option at time T \n",
    "        ## equal to the payments at time T.\n",
    "    for j in range(N-1,-1,-1):\n",
    "        ## cycle for formula V(j,m), j=N-1, N-2,...,0  \n",
    "        for m in range(0,j+1):\n",
    "            V_new[m]=(q*V_old[m+1]+(1-q)*V_old[m])/R\n",
    "            ## computing the option prices at time j*dt if we know the prices at time (j+1)*dt. \n",
    "            ## (see formula for V(j,m))\n",
    "        for m in range(0,j+1):\n",
    "            V_old[m]=V_new[m]\n",
    "            ## after that the all option prices at time j*dt are known, we consider these prices as old prices. \n",
    "    return(V_new[0])\n",
    "    ## V_new[0] is the option price at t=0\n",
    "      \n",
    "print('The European put option price is %8.4f' % Eur_putprice(S0=100,E=98.5,T=2,N=400,r=0.03,sigma=np.sqrt(0.15),cp=-1)) \n",
    "## finding and printing European put option with parameters \n",
    "## S0=100,E=98.50,T=2,N=1000,r=0.03,sigma=np.sqrt(0.15),cp=-1."
   ]
  },
  {
   "cell_type": "markdown",
   "metadata": {},
   "source": [
    "#### **At N = 500**  with CRR Method for European option"
   ]
  },
  {
   "cell_type": "code",
   "execution_count": 104,
   "metadata": {},
   "outputs": [
    {
     "name": "stdout",
     "output_type": "stream",
     "text": [
      "The European put option price is  24.6152\n"
     ]
    }
   ],
   "source": [
    "import pandas as pd          ## import from module scipy all functions \n",
    "import numpy as np          ## import from module numpy all functions \n",
    "def Eur_putprice(S0,E,T,N,r,sigma,cp):      ##  Defining the function Eur_putprice to calculate \n",
    "        ## the price of a European put option\n",
    "    dt=T/N\n",
    "    U=np.exp(sigma*np.sqrt(dt))\n",
    "    D=np.exp(-sigma*np.sqrt(dt))\n",
    "    R=(np.exp(r*dt))\n",
    "    q=(R-D)/(U-D)\n",
    "    ## defining delta_t, parameters U, D, R and risk-neutrall probability q\n",
    "    ## Here we use CRR parameters for U and D.\n",
    "    V_old=np.zeros(N+1)\n",
    "    V_new=np.zeros(N+1)\n",
    "    ## initializing two N+1 dimensional vectors with zeros to store option prices\n",
    "    for m in range(0,N+1):   ## cycle - m gets the values 0,1, ...,N \n",
    "        V_old[m]=max(S0*U**m*D**(N-m)-E,0)\n",
    "        ## first cycle - Computing the prices of the option (depending on the price S(T)=S0*U**D**(N-m)\n",
    "        ##at time T=N*dt (see formula V(N,m) for put option). The prices of the option at time T \n",
    "        ## equal to the payments at time T.\n",
    "    for j in range(N-1,-1,-1):\n",
    "        ## cycle for formula V(j,m), j=N-1, N-2,...,0  \n",
    "        for m in range(0,j+1):\n",
    "            V_new[m]=(q*V_old[m+1]+(1-q)*V_old[m])/R\n",
    "            ## computing the option prices at time j*dt if we know the prices at time (j+1)*dt. \n",
    "            ## (see formula for V(j,m))\n",
    "        for m in range(0,j+1):\n",
    "            V_old[m]=V_new[m]\n",
    "            ## after that the all option prices at time j*dt are known, we consider these prices as old prices. \n",
    "    return(V_new[0])\n",
    "    ## V_new[0] is the option price at t=0\n",
    "      \n",
    "print('The European put option price is %8.4f' % Eur_putprice(S0=100,E=98.5,T=2,N=500,r=0.03,sigma=np.sqrt(0.15),cp=-1)) \n",
    "## finding and printing European put option with parameters \n",
    "## S0=100,E=98.50,T=2,N=1000,r=0.03,sigma=np.sqrt(0.15),cp=-1."
   ]
  },
  {
   "cell_type": "markdown",
   "metadata": {},
   "source": [
    "### Find the price of the European option using limit price for BS formula:"
   ]
  },
  {
   "cell_type": "code",
   "execution_count": 105,
   "metadata": {},
   "outputs": [
    {
     "name": "stdout",
     "output_type": "stream",
     "text": [
      "The Limit Price is  24.6085\n"
     ]
    }
   ],
   "source": [
    "from scipy.stats import norm\n",
    "import math\n",
    "\n",
    "S0=100\n",
    "E=98.5\n",
    "T=2\n",
    "r=0.03\n",
    "sigma=np.sqrt(.15)\n",
    "d1=(math.log(S0/E)+(r+0.5*sigma**2)*T)/(sigma*np.sqrt(T))\n",
    "d2=d1-sigma*np.sqrt(T)\n",
    "Vput=S0*norm.cdf(d1)-E*np.exp(-r*T)*norm.cdf(d2)\n",
    "## function norm.cdf computes the value of the cumulative distribution function of the standardized normal distribution N(0,1),\n",
    "print('The Limit Price is %8.4f' %Vput)"
   ]
  },
  {
   "cell_type": "markdown",
   "metadata": {},
   "source": [
    "### Plot the graph of the European option and the limit price in one graph:"
   ]
  },
  {
   "cell_type": "code",
   "execution_count": 106,
   "metadata": {},
   "outputs": [
    {
     "data": {
      "image/png": "[encoded data removed]",
      "text/plain": [
       "<Figure size 432x288 with 1 Axes>"
      ]
     },
     "metadata": {
      "needs_background": "light"
     },
     "output_type": "display_data"
    }
   ],
   "source": [
    "import matplotlib.pyplot as plt  \n",
    "\n",
    "# Assign a short name to a module to use it when referring to a function in the module\n",
    "## for example, instead matplotlib.pyplot.xlim we use plt.xlim.\n",
    "V=np.zeros(501)\n",
    "Vc=Vput*np.ones(501)\n",
    "##initializing vector V with zeros to store option prices\n",
    "for k in range(30,501):\n",
    "    V[k]=Eur_putprice(S0=100,E=98.5,T=2,N=k,r=0.03,sigma=np.sqrt(0.15),cp=-1)\n",
    "    ## computing the prices \n",
    "n = np.linspace(0, 500, 501)\n",
    "#defining vector of x-values (number of the period)\n",
    "plt.plot(n, V)\n",
    "plt.plot(n, Vc)\n",
    "## definining the plot, the x-values are in vector n, y-values are in vector V.\n",
    "plt.xlim((30, 500))\n",
    "## limits of x-axis\n",
    "plt.ylim((24.53,24.75))\n",
    "## limits of y-axis (limits of option prices)\n",
    "plt.ylabel('Price')\n",
    "plt.xlabel('N')\n",
    "plt.legend(['Binomial price','Limit price'], loc='best')\n",
    "plt.title('Price of the European put option')\n",
    "plt.show()\n",
    "## show plot"
   ]
  },
  {
   "cell_type": "markdown",
   "metadata": {},
   "source": [
    "### Second Method is: Jarrow-Rudd method"
   ]
  },
  {
   "cell_type": "markdown",
   "metadata": {},
   "source": [
    "#### **At N = 300**  with Jarrow-Rudd Method for European option"
   ]
  },
  {
   "cell_type": "code",
   "execution_count": 107,
   "metadata": {},
   "outputs": [
    {
     "name": "stdout",
     "output_type": "stream",
     "text": [
      "The European put option price using Jarrow-Rudd Parameters is  24.6097\n"
     ]
    }
   ],
   "source": [
    "import pandas as pd          ## import from module scipy all functions \n",
    "import numpy as np          ## import from module numpy all functions \n",
    "def Eur_putprice_Jarrow(S0,E,T,N,r,sigma,cp):      ##  Defining the function Eur_putprice to calculate \n",
    "        ## the price of a European put option\n",
    "    dt=T/N\n",
    "    p=r-(0.5*sigma**2)\n",
    "    U=np.exp(p*dt+sigma*np.sqrt(dt))\n",
    "    D=np.exp(p*dt-sigma*np.sqrt(dt))\n",
    "    R=(np.exp(r*dt))\n",
    "    q=(R-D)/(U-D)\n",
    "    ## defining delta_t, parameters U, D, R and risk-neutrall probability q\n",
    "    ## Here we use Jarrow-Rudd parameters for U and D.\n",
    "    V_old=np.zeros(N+1)\n",
    "    V_new=np.zeros(N+1)\n",
    "    ## initializing two N+1 dimensional vectors with zeros to store option prices\n",
    "    for m in range(0,N+1):   ## cycle - m gets the values 0,1, ...,N \n",
    "        V_old[m]=max(S0*U**m*D**(N-m)-E,0)\n",
    "        ## first cycle - Computing the prices of the option (depending on the price S(T)=S0*U**D**(N-m)\n",
    "        ##at time T=N*dt (see formula V(N,m) for put option). The prices of the option at time T \n",
    "        ## equal to the payments at time T.\n",
    "    for j in range(N-1,-1,-1):\n",
    "        ## cycle for formula V(j,m), j=N-1, N-2,...,0  \n",
    "        for m in range(0,j+1):\n",
    "            V_new[m]=(q*V_old[m+1]+(1-q)*V_old[m])/R\n",
    "            ## computing the option prices at time j*dt if we know the prices at time (j+1)*dt. \n",
    "            ## (see formula for V(j,m))\n",
    "        for m in range(0,j+1):\n",
    "            V_old[m]=V_new[m]\n",
    "            ## after that the all option prices at time j*dt are known, we consider these prices as old prices. \n",
    "    return(V_new[0])\n",
    "    ## V_new[0] is the option price at t=0\n",
    "      \n",
    "print('The European put option price using Jarrow-Rudd Parameters is %8.4f' % Eur_putprice_Jarrow(S0=100,E=98.5,T=2,N=300,r=0.03,sigma=np.sqrt(0.15),cp=-1)) \n",
    "## finding and printing European put option with parameters \n",
    "## S0=100,E=98.50,T=2,N=1000,r=0.03,sigma=np.sqrt(0.15),cp=-1."
   ]
  },
  {
   "cell_type": "markdown",
   "metadata": {},
   "source": [
    "#### **At N = 400**  with Jarrow-Rudd Method for European option"
   ]
  },
  {
   "cell_type": "code",
   "execution_count": 108,
   "metadata": {},
   "outputs": [
    {
     "name": "stdout",
     "output_type": "stream",
     "text": [
      "The European put option price using Jarrow-Rudd Parameters is  24.6177\n"
     ]
    }
   ],
   "source": [
    "import pandas as pd          ## import from module scipy all functions \n",
    "import numpy as np          ## import from module numpy all functions \n",
    "def Eur_putprice_Jarrow(S0,E,T,N,r,sigma,cp):      ##  Defining the function Eur_putprice to calculate \n",
    "        ## the price of a European put option\n",
    "    dt=T/N\n",
    "    p=r-(0.5*sigma**2)\n",
    "    U=np.exp(p*dt+sigma*np.sqrt(dt))\n",
    "    D=np.exp(p*dt-sigma*np.sqrt(dt))\n",
    "    R=(np.exp(r*dt))\n",
    "    q=(R-D)/(U-D)\n",
    "    ## defining delta_t, parameters U, D, R and risk-neutrall probability q\n",
    "    ## Here we use Jarrow-Rudd parameters for U and D.\n",
    "    V_old=np.zeros(N+1)\n",
    "    V_new=np.zeros(N+1)\n",
    "    ## initializing two N+1 dimensional vectors with zeros to store option prices\n",
    "    for m in range(0,N+1):   ## cycle - m gets the values 0,1, ...,N \n",
    "        V_old[m]=max(S0*U**m*D**(N-m)-E,0)\n",
    "        ## first cycle - Computing the prices of the option (depending on the price S(T)=S0*U**D**(N-m)\n",
    "        ##at time T=N*dt (see formula V(N,m) for put option). The prices of the option at time T \n",
    "        ## equal to the payments at time T.\n",
    "    for j in range(N-1,-1,-1):\n",
    "        ## cycle for formula V(j,m), j=N-1, N-2,...,0  \n",
    "        for m in range(0,j+1):\n",
    "            V_new[m]=(q*V_old[m+1]+(1-q)*V_old[m])/R\n",
    "            ## computing the option prices at time j*dt if we know the prices at time (j+1)*dt. \n",
    "            ## (see formula for V(j,m))\n",
    "        for m in range(0,j+1):\n",
    "            V_old[m]=V_new[m]\n",
    "            ## after that the all option prices at time j*dt are known, we consider these prices as old prices. \n",
    "    return(V_new[0])\n",
    "    ## V_new[0] is the option price at t=0\n",
    "      \n",
    "print('The European put option price using Jarrow-Rudd Parameters is %8.4f' % Eur_putprice_Jarrow(S0=100,E=98.5,T=2,N=400,r=0.03,sigma=np.sqrt(0.15),cp=-1)) \n",
    "## finding and printing European put option with parameters \n",
    "## S0=100,E=98.50,T=2,N=1000,r=0.03,sigma=np.sqrt(0.15),cp=-1."
   ]
  },
  {
   "cell_type": "markdown",
   "metadata": {},
   "source": [
    "#### **At N = 500**  with Jarrow-Rudd Method for European option"
   ]
  },
  {
   "cell_type": "code",
   "execution_count": 109,
   "metadata": {},
   "outputs": [
    {
     "name": "stdout",
     "output_type": "stream",
     "text": [
      "The European put option price using Jarrow-Rudd Parameters is  24.6172\n"
     ]
    }
   ],
   "source": [
    "import pandas as pd          ## import from module scipy all functions \n",
    "import numpy as np          ## import from module numpy all functions \n",
    "def Eur_putprice_Jarrow(S0,E,T,N,r,sigma,cp):      ##  Defining the function Eur_putprice to calculate \n",
    "        ## the price of a European put option\n",
    "    dt=T/N\n",
    "    p=r-(0.5*sigma**2)\n",
    "    U=np.exp(p*dt+sigma*np.sqrt(dt))\n",
    "    D=np.exp(p*dt-sigma*np.sqrt(dt))\n",
    "    R=(np.exp(r*dt))\n",
    "    q=(R-D)/(U-D)\n",
    "    ## defining delta_t, parameters U, D, R and risk-neutrall probability q\n",
    "    ## Here we use Jarrow-Rudd parameters for U and D.\n",
    "    V_old=np.zeros(N+1)\n",
    "    V_new=np.zeros(N+1)\n",
    "    ## initializing two N+1 dimensional vectors with zeros to store option prices\n",
    "    for m in range(0,N+1):   ## cycle - m gets the values 0,1, ...,N \n",
    "        V_old[m]=max(S0*U**m*D**(N-m)-E,0)\n",
    "        ## first cycle - Computing the prices of the option (depending on the price S(T)=S0*U**D**(N-m)\n",
    "        ##at time T=N*dt (see formula V(N,m) for put option). The prices of the option at time T \n",
    "        ## equal to the payments at time T.\n",
    "    for j in range(N-1,-1,-1):\n",
    "        ## cycle for formula V(j,m), j=N-1, N-2,...,0  \n",
    "        for m in range(0,j+1):\n",
    "            V_new[m]=(q*V_old[m+1]+(1-q)*V_old[m])/R\n",
    "            ## computing the option prices at time j*dt if we know the prices at time (j+1)*dt. \n",
    "            ## (see formula for V(j,m))\n",
    "        for m in range(0,j+1):\n",
    "            V_old[m]=V_new[m]\n",
    "            ## after that the all option prices at time j*dt are known, we consider these prices as old prices. \n",
    "    return(V_new[0])\n",
    "    ## V_new[0] is the option price at t=0\n",
    "      \n",
    "print('The European put option price using Jarrow-Rudd Parameters is %8.4f' % Eur_putprice_Jarrow(S0=100,E=98.5,T=2,N=500,r=0.03,sigma=np.sqrt(0.15),cp=-1)) \n",
    "## finding and printing European put option with parameters \n",
    "## S0=100,E=98.50,T=2,N=1000,r=0.03,sigma=np.sqrt(0.15),cp=-1."
   ]
  },
  {
   "cell_type": "markdown",
   "metadata": {},
   "source": [
    "### Third Method is: Leisen-Reimer method"
   ]
  },
  {
   "cell_type": "markdown",
   "metadata": {},
   "source": [
    "**Definying sign(z) which is equal to 1**\n",
    "\n",
    "That's because h(z) is a discrete approximation to the cummulative distribution function for a normal distribution. so when I use the numpy.sign(z) to validate my answer. I find that output is approximately is 0.7950. So sign(z) equal 1..\n",
    "\n",
    "#### **At N = 300**  with Leisen-Reimer Method for European option"
   ]
  },
  {
   "cell_type": "code",
   "execution_count": 110,
   "metadata": {},
   "outputs": [
    {
     "name": "stdout",
     "output_type": "stream",
     "text": [
      "0.7950600976206501\n",
      "0.0\n"
     ]
    }
   ],
   "source": [
    "# Try to find the value of sign(z)\n",
    "\n",
    "\n",
    "# Assume that sign(z) equal is 1\n",
    "sign_z = np.sqrt(1-np.exp(-1)) \n",
    "print(sign_z)\n",
    "\n",
    "# Assume that sign(z) equal is 0\n",
    "sign_z0 = np.sqrt(1-np.exp(0)) \n",
    "print(sign_z0)"
   ]
  },
  {
   "cell_type": "code",
   "execution_count": 111,
   "metadata": {},
   "outputs": [
    {
     "name": "stdout",
     "output_type": "stream",
     "text": [
      "The European put option price using Leisen-Reimer Parameters is  99.6543\n"
     ]
    }
   ],
   "source": [
    "import pandas as pd          ## import from module scipy all functions \n",
    "import numpy as np   ## import from module numpy all functions \n",
    "import math      \n",
    "def Eur_putprice_Leisen(S0,E,T,N,r,sigma,cp):      ##  Defining the function Eur_putprice to calculate \n",
    "        ## the price of a European put option\n",
    "    dt=T/N\n",
    "    R=(np.exp(r*dt))\n",
    "    z=1\n",
    "    N=N+1\n",
    "    a=(z**2/(N+1/3+0.1/(N+1))**2)*(N+1/6)\n",
    "    h=0.5+0.5*z*np.sqrt(1-np.exp(-a))\n",
    "    d1=(math.log(S0/E)+(r+0.5*sigma**2)*T)/sigma*np.sqrt(T)\n",
    "    d2=d1-(sigma*np.sqrt(T))\n",
    "    p=r-(0.5*sigma**2)\n",
    "    q_quote=0.5+0.5*z*np.sqrt(1-np.exp(-d1))\n",
    "    q=0.5+0.5*z*np.sqrt(1-np.exp(-d2))\n",
    "    U=(R*q_quote)/q\n",
    "    D=(R-q*U)/(1-q)\n",
    "    ## defining delta_t, parameters U, D, R and risk-neutrall probability q\n",
    "    ## Here we use Leisen-Reimer parameters for U and D.\n",
    "    V_old=np.zeros(N+1)\n",
    "    V_new=np.zeros(N+1)\n",
    "    ## initializing two N+1 dimensional vectors with zeros to store option prices\n",
    "    for m in range(0,N+1):   ## cycle - m gets the values 0,1, ...,N \n",
    "        V_old[m]=max(S0*U**m*D**(N-m)-E,0)\n",
    "        ## first cycle - Computing the prices of the option (depending on the price S(T)=S0*U**D**(N-m)\n",
    "        ##at time T=N*dt (see formula V(N,m) for put option). The prices of the option at time T \n",
    "        ## equal to the payments at time T.\n",
    "    for j in range(N-1,-1,-1):\n",
    "        ## cycle for formula V(j,m), j=N-1, N-2,...,0  \n",
    "        for m in range(0,j+1):\n",
    "            V_new[m]=(q*V_old[m+1]+(1-q)*V_old[m])/R\n",
    "            ## computing the option prices at time j*dt if we know the prices at time (j+1)*dt. \n",
    "            ## (see formula for V(j,m))\n",
    "        for m in range(0,j+1):\n",
    "            V_old[m]=V_new[m]\n",
    "            ## after that the all option prices at time j*dt are known, we consider these prices as old prices. \n",
    "    return(V_new[0])\n",
    "    ## V_new[0] is the option price at t=0\n",
    "      \n",
    "print('The European put option price using Leisen-Reimer Parameters is %8.4f' % Eur_putprice_Leisen(S0=100,E=98.5,T=2,N=300,r=0.03,sigma=np.sqrt(0.15),cp=-1)) \n",
    "## finding and printing European put option with parameters \n",
    "## S0=100,E=98.50,T=2,N=1000,r=0.03,sigma=np.sqrt(0.15),cp=-1."
   ]
  },
  {
   "cell_type": "markdown",
   "metadata": {},
   "source": [
    "#### **At N = 400**  with Leisen-Reimer Method for European option"
   ]
  },
  {
   "cell_type": "code",
   "execution_count": 112,
   "metadata": {},
   "outputs": [
    {
     "name": "stdout",
     "output_type": "stream",
     "text": [
      "The European put option price using Leisen-Reimer Parameters is  99.9238\n"
     ]
    }
   ],
   "source": [
    "import pandas as pd          ## import from module scipy all functions \n",
    "import numpy as np   ## import from module numpy all functions \n",
    "import math      \n",
    "def Eur_putprice_Leisen(S0,E,T,N,r,sigma,cp):      ##  Defining the function Eur_putprice to calculate \n",
    "        ## the price of a European put option\n",
    "    dt=T/N\n",
    "    R=(np.exp(r*dt))\n",
    "    z=1\n",
    "    N=N+1\n",
    "    a=(z**2/(N+1/3+0.1/(N+1))**2)*(N+1/6)\n",
    "    h=0.5+0.5*z*np.sqrt(1-np.exp(-a))\n",
    "    d1=(math.log(S0/E)+(r+0.5*sigma**2)*T)/sigma*np.sqrt(T)\n",
    "    d2=d1-(sigma*np.sqrt(T))\n",
    "    p=r-(0.5*sigma**2)\n",
    "    q_quote=0.5+0.5*z*np.sqrt(1-np.exp(-d1))\n",
    "    q=0.5+0.5*z*np.sqrt(1-np.exp(-d2))\n",
    "    U=(R*q_quote)/q\n",
    "    D=(R-q*U)/(1-q)\n",
    "    ## defining delta_t, parameters U, D, R and risk-neutrall probability q\n",
    "    ## Here we use Leisen-Reimer parameters for U and D.\n",
    "    V_old=np.zeros(N+1)\n",
    "    V_new=np.zeros(N+1)\n",
    "    ## initializing two N+1 dimensional vectors with zeros to store option prices\n",
    "    for m in range(0,N+1):   ## cycle - m gets the values 0,1, ...,N \n",
    "        V_old[m]=max(S0*U**m*D**(N-m)-E,0)\n",
    "        ## first cycle - Computing the prices of the option (depending on the price S(T)=S0*U**D**(N-m)\n",
    "        ##at time T=N*dt (see formula V(N,m) for put option). The prices of the option at time T \n",
    "        ## equal to the payments at time T.\n",
    "    for j in range(N-1,-1,-1):\n",
    "        ## cycle for formula V(j,m), j=N-1, N-2,...,0  \n",
    "        for m in range(0,j+1):\n",
    "            V_new[m]=(q*V_old[m+1]+(1-q)*V_old[m])/R\n",
    "            ## computing the option prices at time j*dt if we know the prices at time (j+1)*dt. \n",
    "            ## (see formula for V(j,m))\n",
    "        for m in range(0,j+1):\n",
    "            V_old[m]=V_new[m]\n",
    "            ## after that the all option prices at time j*dt are known, we consider these prices as old prices. \n",
    "    return(V_new[0])\n",
    "    ## V_new[0] is the option price at t=0\n",
    "      \n",
    "print('The European put option price using Leisen-Reimer Parameters is %8.4f' % Eur_putprice_Leisen(S0=100,E=98.5,T=2,N=400,r=0.03,sigma=np.sqrt(0.15),cp=-1)) \n",
    "## finding and printing European put option with parameters \n",
    "## S0=100,E=98.50,T=2,N=1000,r=0.03,sigma=np.sqrt(0.15),cp=-1."
   ]
  },
  {
   "cell_type": "markdown",
   "metadata": {},
   "source": [
    "#### **At N = 500**  with Leisen-Reimer Method for European option"
   ]
  },
  {
   "cell_type": "code",
   "execution_count": 113,
   "metadata": {},
   "outputs": [
    {
     "name": "stdout",
     "output_type": "stream",
     "text": [
      "The European put option price using Leisen-Reimer Parameters is  99.9833\n"
     ]
    }
   ],
   "source": [
    "import pandas as pd          ## import from module scipy all functions \n",
    "import numpy as np   ## import from module numpy all functions \n",
    "import math      \n",
    "def Eur_putprice_Leisen(S0,E,T,N,r,sigma,cp):      ##  Defining the function Eur_putprice to calculate \n",
    "        ## the price of a European put option\n",
    "    dt=T/N\n",
    "    R=(np.exp(r*dt))\n",
    "    z=1\n",
    "    N=N+1\n",
    "    a=(z**2/(N+1/3+0.1/(N+1))**2)*(N+1/6)\n",
    "    h=0.5+0.5*z*np.sqrt(1-np.exp(-a))\n",
    "    d1=(math.log(S0/E)+(r+0.5*sigma**2)*T)/sigma*np.sqrt(T)\n",
    "    d2=d1-(sigma*np.sqrt(T))\n",
    "    p=r-(0.5*sigma**2)\n",
    "    q_quote=0.5+0.5*z*np.sqrt(1-np.exp(-d1))\n",
    "    q=0.5+0.5*z*np.sqrt(1-np.exp(-d2))\n",
    "    U=(R*q_quote)/q\n",
    "    D=(R-q*U)/(1-q)\n",
    "    ## defining delta_t, parameters U, D, R and risk-neutrall probability q\n",
    "    ## Here we use Leisen-Reimer parameters for U and D.\n",
    "    V_old=np.zeros(N+1)\n",
    "    V_new=np.zeros(N+1)\n",
    "    ## initializing two N+1 dimensional vectors with zeros to store option prices\n",
    "    for m in range(0,N+1):   ## cycle - m gets the values 0,1, ...,N \n",
    "        V_old[m]=max(S0*U**m*D**(N-m)-E,0)\n",
    "        ## first cycle - Computing the prices of the option (depending on the price S(T)=S0*U**D**(N-m)\n",
    "        ##at time T=N*dt (see formula V(N,m) for put option). The prices of the option at time T \n",
    "        ## equal to the payments at time T.\n",
    "    for j in range(N-1,-1,-1):\n",
    "        ## cycle for formula V(j,m), j=N-1, N-2,...,0  \n",
    "        for m in range(0,j+1):\n",
    "            V_new[m]=(q*V_old[m+1]+(1-q)*V_old[m])/R\n",
    "            ## computing the option prices at time j*dt if we know the prices at time (j+1)*dt. \n",
    "            ## (see formula for V(j,m))\n",
    "        for m in range(0,j+1):\n",
    "            V_old[m]=V_new[m]\n",
    "            ## after that the all option prices at time j*dt are known, we consider these prices as old prices. \n",
    "    return(V_new[0])\n",
    "    ## V_new[0] is the option price at t=0\n",
    "      \n",
    "print('The European put option price using Leisen-Reimer Parameters is %8.4f' % Eur_putprice_Leisen(S0=100,E=98.5,T=2,N=500,r=0.03,sigma=np.sqrt(0.15),cp=-1)) \n",
    "## finding and printing European put option with parameters \n",
    "## S0=100,E=98.50,T=2,N=1000,r=0.03,sigma=np.sqrt(0.15),cp=-1."
   ]
  },
  {
   "cell_type": "markdown",
   "metadata": {},
   "source": [
    "### Compute the errors of European option in case N=300, N=400 and N=500 for CRR Method:"
   ]
  },
  {
   "cell_type": "code",
   "execution_count": 114,
   "metadata": {},
   "outputs": [
    {
     "name": "stdout",
     "output_type": "stream",
     "text": [
      "The European put option price at N = 300 - CRR Method is   0.0070\n",
      "The European put option price at N = 400 - CRR Method is   0.0070\n",
      "The European put option price at N = 500 - CRR Method Method is   0.0067\n"
     ]
    }
   ],
   "source": [
    "error_CRR300 = ((Eur_putprice(S0=100,E=98.5,T=2,N=300,r=0.03,sigma=np.sqrt(0.15),cp=-1)) - Vput)\n",
    "print('The European put option price at N = 300 - CRR Method is %8.4f' % error_CRR300)\n",
    "\n",
    "error_CRR400 = ((Eur_putprice(S0=100,E=98.5,T=2,N=400,r=0.03,sigma=np.sqrt(0.15),cp=-1)) - Vput)\n",
    "print('The European put option price at N = 400 - CRR Method is %8.4f' % error_CRR400)\n",
    "\n",
    "error_CRR500 = ((Eur_putprice(S0=100,E=98.5,T=2,N=500,r=0.03,sigma=np.sqrt(0.15),cp=-1)) - Vput)\n",
    "print('The European put option price at N = 500 - CRR Method Method is %8.4f' % error_CRR500)\n"
   ]
  },
  {
   "cell_type": "markdown",
   "metadata": {},
   "source": [
    "### Compute the errors of European option in case N=300, N=400 and N=500 for Jarrow-Rudd Method:"
   ]
  },
  {
   "cell_type": "code",
   "execution_count": 115,
   "metadata": {},
   "outputs": [
    {
     "name": "stdout",
     "output_type": "stream",
     "text": [
      "The European put option price at N = 300 - Jarrow-Rudd Method is   0.0012\n",
      "The European put option price at N = 400 - Jarrow-Rudd Method is   0.0092\n",
      "The European put option price at N = 500 - Jarrow-Rudd Method is   0.0087\n"
     ]
    }
   ],
   "source": [
    "error_Jarrow300 = (Eur_putprice_Jarrow(S0=100,E=98.5,T=2,N=300,r=0.03,sigma=np.sqrt(0.15),cp=-1) - Vput)\n",
    "print('The European put option price at N = 300 - Jarrow-Rudd Method is %8.4f' % error_Jarrow300)\n",
    "\n",
    "error_Jarrow400 = (Eur_putprice_Jarrow(S0=100,E=98.5,T=2,N=400,r=0.03,sigma=np.sqrt(0.15),cp=-1) - Vput)\n",
    "print('The European put option price at N = 400 - Jarrow-Rudd Method is %8.4f' % error_Jarrow400)\n",
    "\n",
    "error_Jarrow500 = (Eur_putprice_Jarrow(S0=100,E=98.5,T=2,N=500,r=0.03,sigma=np.sqrt(0.15),cp=-1) - Vput)\n",
    "print('The European put option price at N = 500 - Jarrow-Rudd Method is %8.4f' % error_Jarrow500)"
   ]
  },
  {
   "cell_type": "markdown",
   "metadata": {},
   "source": [
    "### Compute the errors of European option in case N=300, N=400 and N=500 for Leisen-Reimer Method:"
   ]
  },
  {
   "cell_type": "code",
   "execution_count": 116,
   "metadata": {},
   "outputs": [
    {
     "name": "stdout",
     "output_type": "stream",
     "text": [
      "The European put option price at N = 300 - Leisen-Reimer Method is  75.0458\n",
      "The European put option price at N = 400 - Leisen-Reimer Method is  75.3153\n",
      "The European put option price at N = 500 - Leisen-Reimer Method is  75.3748\n"
     ]
    }
   ],
   "source": [
    "error_Leisen300 = ((Eur_putprice_Leisen(S0=100,E=98.5,T=2,N=300,r=0.03,sigma=np.sqrt(0.15),cp=-1)) - Vput)\n",
    "print('The European put option price at N = 300 - Leisen-Reimer Method is %8.4f' % error_Leisen300)\n",
    "\n",
    "error_Leisen400 = ((Eur_putprice_Leisen(S0=100,E=98.5,T=2,N=400,r=0.03,sigma=np.sqrt(0.15),cp=-1)) - Vput)\n",
    "print('The European put option price at N = 400 - Leisen-Reimer Method is %8.4f' % error_Leisen400)\n",
    "\n",
    "error_Leisen500 = ((Eur_putprice_Leisen(S0=100,E=98.5,T=2,N=500,r=0.03,sigma=np.sqrt(0.15),cp=-1)) - Vput)\n",
    "print('The European put option price at N = 500 - Leisen-Reimer Method is %8.4f' % error_Leisen500)\n"
   ]
  },
  {
   "cell_type": "markdown",
   "metadata": {},
   "source": [
    "## Comment on the European option using( CRR - Jarrow-Rudd - Leisen-Reimer ) Method at N=300, 400, 500:\n",
    "\n",
    "\n",
    "- For CRR Method: We can see that the European option price at N = 300, 400, 500 are 24.6155, 24.6155, 24.6152 respectively.\n",
    "\n",
    "- The limit price for European option is: 24.6085, which we are going to use it later to compute the values of errors for each method at different values of N.\n",
    "\n",
    "- N is an important factor in our model as it express the number of time periods.\n",
    "\n",
    "- For Jarrow-Rudd Method: We can see that the European option price at N = 300, 400, 500 are 24.6097, 24.6177, 24.6172 respectively.\n",
    "\n",
    "- For Leisen-Reimer Method: We can see that the European option price at N = 300, 400, 500 are 99.6543, 99.9238, 99.9833 respectively. (Based on the interesting note in the page 97, the model parameters for this method helps in order to achieve faster convergence).\n",
    "\n",
    "- Finally, when it comes to the calculation of the errors wether for CRR & Jarrow-Rudd Methods. We witnessed quite similar values. Not like the Leisen-Reimer Method. "
   ]
  },
  {
   "cell_type": "markdown",
   "metadata": {},
   "source": [
    "### Find the prices of American option:\n",
    "\n",
    "#### **At N = 300**  with CRR Method"
   ]
  },
  {
   "cell_type": "code",
   "execution_count": 117,
   "metadata": {},
   "outputs": [
    {
     "name": "stdout",
     "output_type": "stream",
     "text": [
      "The American put option price is  18.0115.\n"
     ]
    }
   ],
   "source": [
    "def Amer_price(S0,E,T,N,r,sigma,cp):\n",
    "    dt=T/N\n",
    "    U=np.exp(sigma*np.sqrt(dt))\n",
    "    D=np.exp(-sigma*np.sqrt(dt))\n",
    "    R=(np.exp(r*dt))\n",
    "    q=(R-D)/(U-D)\n",
    "    V_old=np.zeros(N+1)\n",
    "    V_new=np.zeros(N+1)\n",
    "    for m in range(0,N+1):\n",
    "        V_old[m]=max(cp*(S0*U**m*D**(N-m)-E),0)    \n",
    "    for j in range(N-1,-1,-1):\n",
    "        for m in range(0,j+1):\n",
    "            V_new[m]=(q*V_old[m+1]+(1-q)*V_old[m])/R\n",
    "            V_new[m]=max(V_new[m],max(cp*(S0*U**m*D**(j-m)-E),0))\n",
    "        for m in range(0,j+1):\n",
    "            V_old[m]=V_new[m]\n",
    "    return(V_new[0])\n",
    "print('The American put option price is %8.4f.' % Amer_price(S0=100,E=98.5,T=2,N=300,r=0.03,sigma=np.sqrt(0.15),cp=-1))"
   ]
  },
  {
   "cell_type": "markdown",
   "metadata": {},
   "source": [
    "### Plot the graph of the American option and the limit price in one graph:"
   ]
  },
  {
   "cell_type": "code",
   "execution_count": 118,
   "metadata": {},
   "outputs": [
    {
     "data": {
      "image/png": "[encoded data removed]",
      "text/plain": [
       "<Figure size 432x288 with 1 Axes>"
      ]
     },
     "metadata": {
      "needs_background": "light"
     },
     "output_type": "display_data"
    }
   ],
   "source": [
    "import matplotlib.pyplot as plt  \n",
    "## Assign a short name to a module to use it when referring to a function in the module\n",
    "## for example, instead matplotlib.pyplot.xlim we use plt.xlim.\n",
    "V=np.zeros(501)\n",
    "##initializing vector V with zeros to store option prices\n",
    "for k in range(30,501):\n",
    "    V[k]=Amer_price(S0=100,E=98.5,T=2,N=k,r=0.03,sigma=np.sqrt(0.15),cp=-1)\n",
    "    ## computing the prices \n",
    "n =np.linspace(0,500,501)\n",
    "#defining vector of x-values (number of the period)\n",
    "plt.plot(n, V)\n",
    "## definining the plot, the x-values are in vector n, y-values are in vector V.\n",
    "plt.xlim((30, 500))\n",
    "## limits of x-axis\n",
    "plt.ylim((17.93,18.18))\n",
    "## limits of y-axis (limits of option prices)\n",
    "plt.ylabel('Price')\n",
    "plt.xlabel('N')\n",
    "plt.legend(['Price'], loc='best')\n",
    "plt.title('Price of the American put option')\n",
    "plt.show()\n",
    "## show plot"
   ]
  },
  {
   "cell_type": "markdown",
   "metadata": {},
   "source": [
    "#### **At N = 400**  with CRR Method for American option"
   ]
  },
  {
   "cell_type": "code",
   "execution_count": 119,
   "metadata": {},
   "outputs": [
    {
     "name": "stdout",
     "output_type": "stream",
     "text": [
      "The American put option price is  18.0112.\n"
     ]
    }
   ],
   "source": [
    "def Amer_price(S0,E,T,N,r,sigma,cp):\n",
    "    dt=T/N\n",
    "    U=np.exp(sigma*np.sqrt(dt))\n",
    "    D=np.exp(-sigma*np.sqrt(dt))\n",
    "    R=(np.exp(r*dt))\n",
    "    q=(R-D)/(U-D)\n",
    "    V_old=np.zeros(N+1)\n",
    "    V_new=np.zeros(N+1)\n",
    "    for m in range(0,N+1):\n",
    "        V_old[m]=max(cp*(S0*U**m*D**(N-m)-E),0)    \n",
    "    for j in range(N-1,-1,-1):\n",
    "        for m in range(0,j+1):\n",
    "            V_new[m]=(q*V_old[m+1]+(1-q)*V_old[m])/R\n",
    "            V_new[m]=max(V_new[m],max(cp*(S0*U**m*D**(j-m)-E),0))\n",
    "        for m in range(0,j+1):\n",
    "            V_old[m]=V_new[m]\n",
    "    return(V_new[0])\n",
    "print('The American put option price is %8.4f.' % Amer_price(S0=100,E=98.5,T=2,N=400,r=0.03,sigma=np.sqrt(0.15),cp=-1))"
   ]
  },
  {
   "cell_type": "markdown",
   "metadata": {},
   "source": [
    "#### **At N = 500**  with CRR Method for American option"
   ]
  },
  {
   "cell_type": "code",
   "execution_count": 120,
   "metadata": {},
   "outputs": [
    {
     "name": "stdout",
     "output_type": "stream",
     "text": [
      "The American put option price is  18.0107.\n"
     ]
    }
   ],
   "source": [
    "def Amer_price(S0,E,T,N,r,sigma,cp):\n",
    "    dt=T/N\n",
    "    U=np.exp(sigma*np.sqrt(dt))\n",
    "    D=np.exp(-sigma*np.sqrt(dt))\n",
    "    R=(np.exp(r*dt))\n",
    "    q=(R-D)/(U-D)\n",
    "    V_old=np.zeros(N+1)\n",
    "    V_new=np.zeros(N+1)\n",
    "    for m in range(0,N+1):\n",
    "        V_old[m]=max(cp*(S0*U**m*D**(N-m)-E),0)    \n",
    "    for j in range(N-1,-1,-1):\n",
    "        for m in range(0,j+1):\n",
    "            V_new[m]=(q*V_old[m+1]+(1-q)*V_old[m])/R\n",
    "            V_new[m]=max(V_new[m],max(cp*(S0*U**m*D**(j-m)-E),0))\n",
    "        for m in range(0,j+1):\n",
    "            V_old[m]=V_new[m]\n",
    "    return(V_new[0])\n",
    "print('The American put option price is %8.4f.' % Amer_price(S0=100,E=98.5,T=2,N=500,r=0.03,sigma=np.sqrt(0.15),cp=-1))"
   ]
  },
  {
   "cell_type": "markdown",
   "metadata": {},
   "source": [
    "#### **At N = 300**  with Jarrow-Rudd Method for American option"
   ]
  },
  {
   "cell_type": "code",
   "execution_count": 133,
   "metadata": {},
   "outputs": [
    {
     "name": "stdout",
     "output_type": "stream",
     "text": [
      "The American put option price using Jarrow-Rudd Parameters is  18.0096\n"
     ]
    }
   ],
   "source": [
    "import pandas as pd          ## import from module scipy all functions \n",
    "import numpy as np          ## import from module numpy all functions \n",
    "def Amer_price(S0,E,T,N,r,sigma,cp):      ##  Defining the function AMR_putprice to calculate \n",
    "        ## the price of a American put option\n",
    "    dt=T/N\n",
    "    p=r-(0.5*sigma**2)\n",
    "    U=np.exp(p*dt+sigma*np.sqrt(dt))\n",
    "    D=np.exp(p*dt-sigma*np.sqrt(dt))\n",
    "    R=(np.exp(r*dt))\n",
    "    q=(R-D)/(U-D)\n",
    "    ## defining delta_t, parameters U, D, R and risk-neutrall probability q\n",
    "    ## Here we use Jarrow-Rudd parameters for U and D.\n",
    "    V_old=np.zeros(N+1)\n",
    "    V_new=np.zeros(N+1)\n",
    "    ## initializing two N+1 dimensional vectors with zeros to store option prices\n",
    "    for m in range(0,N+1):\n",
    "        V_old[m]=max(cp*(S0*U**m*D**(N-m)-E),0)    \n",
    "    for j in range(N-1,-1,-1):\n",
    "        for m in range(0,j+1):\n",
    "            V_new[m]=(q*V_old[m+1]+(1-q)*V_old[m])/R\n",
    "            V_new[m]=max(V_new[m],max(cp*(S0*U**m*D**(j-m)-E),0))\n",
    "        for m in range(0,j+1):\n",
    "            V_old[m]=V_new[m]\n",
    "    return(V_new[0])\n",
    "    ## V_new[0] is the option price at t=0\n",
    "      \n",
    "print('The American put option price using Jarrow-Rudd Parameters is %8.4f' % Amer_price(S0=100,E=98.5,T=2,N=300,r=0.03,sigma=np.sqrt(0.15),cp=-1))\n",
    "## finding and printing American put option with parameters \n",
    "## S0=100,E=98.50,T=2,N=1000,r=0.03,sigma=np.sqrt(0.15),cp=-1."
   ]
  },
  {
   "cell_type": "markdown",
   "metadata": {},
   "source": [
    "#### **At N = 400**  with Jarrow-Rudd Method for American option"
   ]
  },
  {
   "cell_type": "code",
   "execution_count": 132,
   "metadata": {},
   "outputs": [
    {
     "name": "stdout",
     "output_type": "stream",
     "text": [
      "The American put option price using Jarrow-Rudd Parameters is  18.0144\n"
     ]
    }
   ],
   "source": [
    "import pandas as pd          ## import from module scipy all functions \n",
    "import numpy as np          ## import from module numpy all functions \n",
    "def Amer_price(S0,E,T,N,r,sigma,cp):      ##  Defining the function AMR_putprice to calculate \n",
    "        ## the price of a American put option\n",
    "    dt=T/N\n",
    "    p=r-(0.5*sigma**2)\n",
    "    U=np.exp(p*dt+sigma*np.sqrt(dt))\n",
    "    D=np.exp(p*dt-sigma*np.sqrt(dt))\n",
    "    R=(np.exp(r*dt))\n",
    "    q=(R-D)/(U-D)\n",
    "    ## defining delta_t, parameters U, D, R and risk-neutrall probability q\n",
    "    ## Here we use Jarrow-Rudd parameters for U and D.\n",
    "    V_old=np.zeros(N+1)\n",
    "    V_new=np.zeros(N+1)\n",
    "    ## initializing two N+1 dimensional vectors with zeros to store option prices\n",
    "    for m in range(0,N+1):\n",
    "        V_old[m]=max(cp*(S0*U**m*D**(N-m)-E),0)    \n",
    "    for j in range(N-1,-1,-1):\n",
    "        for m in range(0,j+1):\n",
    "            V_new[m]=(q*V_old[m+1]+(1-q)*V_old[m])/R\n",
    "            V_new[m]=max(V_new[m],max(cp*(S0*U**m*D**(j-m)-E),0))\n",
    "        for m in range(0,j+1):\n",
    "            V_old[m]=V_new[m]\n",
    "    return(V_new[0])\n",
    "    ## V_new[0] is the option price at t=0\n",
    "      \n",
    "print('The American put option price using Jarrow-Rudd Parameters is %8.4f' % Amer_price(S0=100,E=98.5,T=2,N=400,r=0.03,sigma=np.sqrt(0.15),cp=-1))\n",
    "## finding and printing American put option with parameters \n",
    "## S0=100,E=98.50,T=2,N=1000,r=0.03,sigma=np.sqrt(0.15),cp=-1."
   ]
  },
  {
   "cell_type": "markdown",
   "metadata": {},
   "source": [
    "#### **At N = 500**  with Jarrow-Rudd Method for American option"
   ]
  },
  {
   "cell_type": "code",
   "execution_count": 131,
   "metadata": {},
   "outputs": [
    {
     "name": "stdout",
     "output_type": "stream",
     "text": [
      "The American put option price using Jarrow-Rudd Parameters is  18.0130\n"
     ]
    }
   ],
   "source": [
    "import pandas as pd          ## import from module scipy all functions \n",
    "import numpy as np          ## import from module numpy all functions \n",
    "def Amer_price(S0,E,T,N,r,sigma,cp):      ##  Defining the function AMR_putprice to calculate \n",
    "        ## the price of a American put option\n",
    "    dt=T/N\n",
    "    p=r-(0.5*sigma**2)\n",
    "    U=np.exp(p*dt+sigma*np.sqrt(dt))\n",
    "    D=np.exp(p*dt-sigma*np.sqrt(dt))\n",
    "    R=(np.exp(r*dt))\n",
    "    q=(R-D)/(U-D)\n",
    "    ## defining delta_t, parameters U, D, R and risk-neutrall probability q\n",
    "    ## Here we use Jarrow-Rudd parameters for U and D.\n",
    "    V_old=np.zeros(N+1)\n",
    "    V_new=np.zeros(N+1)\n",
    "    ## initializing two N+1 dimensional vectors with zeros to store option prices\n",
    "    for m in range(0,N+1):\n",
    "        V_old[m]=max(cp*(S0*U**m*D**(N-m)-E),0)    \n",
    "    for j in range(N-1,-1,-1):\n",
    "        for m in range(0,j+1):\n",
    "            V_new[m]=(q*V_old[m+1]+(1-q)*V_old[m])/R\n",
    "            V_new[m]=max(V_new[m],max(cp*(S0*U**m*D**(j-m)-E),0))\n",
    "        for m in range(0,j+1):\n",
    "            V_old[m]=V_new[m]\n",
    "    return(V_new[0])\n",
    "    ## V_new[0] is the option price at t=0\n",
    "      \n",
    "print('The American put option price using Jarrow-Rudd Parameters is %8.4f' % Amer_price(S0=100,E=98.5,T=2,N=500,r=0.03,sigma=np.sqrt(0.15),cp=-1))\n",
    "## finding and printing American put option with parameters \n",
    "## S0=100,E=98.50,T=2,N=1000,r=0.03,sigma=np.sqrt(0.15),cp=-1."
   ]
  },
  {
   "cell_type": "markdown",
   "metadata": {},
   "source": [
    "#### **At N = 300**  with Leisen-Reimer Method for American option"
   ]
  },
  {
   "cell_type": "code",
   "execution_count": 130,
   "metadata": {},
   "outputs": [
    {
     "name": "stdout",
     "output_type": "stream",
     "text": [
      "The American put option price using Leisen-Reimer Parameters is  96.0968\n"
     ]
    }
   ],
   "source": [
    "import pandas as pd          ## import from module scipy all functions \n",
    "import numpy as np   ## import from module numpy all functions \n",
    "import math      \n",
    "def AMR_putprice_Leisen(S0,E,T,N,r,sigma,cp):      ##  Defining the function AMR_putprice to calculate \n",
    "        ## the price of a American put option\n",
    "    dt=T/N\n",
    "    R=(np.exp(r*dt))\n",
    "    z=1\n",
    "    N=N+1\n",
    "    a=(z**2/(N+1/3+0.1/(N+1))**2)*(N+1/6)\n",
    "    h=0.5+0.5*z*np.sqrt(1-np.exp(-a))\n",
    "    d1=(math.log(S0/E)+(r+0.5*sigma**2)*T)/sigma*np.sqrt(T)\n",
    "    d2=d1-(sigma*np.sqrt(T))\n",
    "    p=r-(0.5*sigma**2)\n",
    "    q_quote=0.5+0.5*z*np.sqrt(1-np.exp(-d1))\n",
    "    q=0.5+0.5*z*np.sqrt(1-np.exp(-d2))\n",
    "    U=(R*q_quote)/q\n",
    "    D=(R-q*U)/(1-q)\n",
    "    ## defining delta_t, parameters U, D, R and risk-neutrall probability q\n",
    "    ## Here we use Leisen-Reimer parameters for U and D.\n",
    "    V_old=np.zeros(N+1)\n",
    "    V_new=np.zeros(N+1)\n",
    "    ## initializing two N+1 dimensional vectors with zeros to store option prices\n",
    "    for m in range(0,N+1):\n",
    "        V_old[m]=max(cp*(S0*U**m*D**(N-m)-E),0)    \n",
    "    for j in range(N-1,-1,-1):\n",
    "        for m in range(0,j+1):\n",
    "            V_new[m]=(q*V_old[m+1]+(1-q)*V_old[m])/R\n",
    "            V_new[m]=max(V_new[m],max(cp*(S0*U**m*D**(j-m)-E),0))\n",
    "        for m in range(0,j+1):\n",
    "            V_old[m]=V_new[m]\n",
    "    return(V_new[0])\n",
    "    ## V_new[0] is the option price at t=0\n",
    "      \n",
    "print('The American put option price using Leisen-Reimer Parameters is %8.4f' % AMR_putprice_Leisen(S0=100,E=98.5,T=2,N=300,r=0.03,sigma=np.sqrt(0.15),cp=-1)) \n",
    "## finding and printing American put option with parameters \n",
    "## S0=100,E=98.50,T=2,N=1000,r=0.03,sigma=np.sqrt(0.15),cp=-1."
   ]
  },
  {
   "cell_type": "markdown",
   "metadata": {},
   "source": [
    "#### **At N = 400**  with Leisen-Reimer Method for American option"
   ]
  },
  {
   "cell_type": "code",
   "execution_count": 129,
   "metadata": {},
   "outputs": [
    {
     "name": "stdout",
     "output_type": "stream",
     "text": [
      "The American put option price using Leisen-Reimer Parameters is  96.7626\n"
     ]
    }
   ],
   "source": [
    "import pandas as pd          ## import from module scipy all functions \n",
    "import numpy as np   ## import from module numpy all functions \n",
    "import math      \n",
    "def AMR_putprice_Leisen(S0,E,T,N,r,sigma,cp):      ##  Defining the function AMR_putprice to calculate \n",
    "        ## the price of a American put option\n",
    "    dt=T/N\n",
    "    R=(np.exp(r*dt))\n",
    "    z=1\n",
    "    N=N+1\n",
    "    a=(z**2/(N+1/3+0.1/(N+1))**2)*(N+1/6)\n",
    "    h=0.5+0.5*z*np.sqrt(1-np.exp(-a))\n",
    "    d1=(math.log(S0/E)+(r+0.5*sigma**2)*T)/sigma*np.sqrt(T)\n",
    "    d2=d1-(sigma*np.sqrt(T))\n",
    "    p=r-(0.5*sigma**2)\n",
    "    q_quote=0.5+0.5*z*np.sqrt(1-np.exp(-d1))\n",
    "    q=0.5+0.5*z*np.sqrt(1-np.exp(-d2))\n",
    "    U=(R*q_quote)/q\n",
    "    D=(R-q*U)/(1-q)\n",
    "    ## defining delta_t, parameters U, D, R and risk-neutrall probability q\n",
    "    ## Here we use Leisen-Reimer parameters for U and D.\n",
    "    V_old=np.zeros(N+1)\n",
    "    V_new=np.zeros(N+1)\n",
    "    ## initializing two N+1 dimensional vectors with zeros to store option prices\n",
    "    for m in range(0,N+1):\n",
    "        V_old[m]=max(cp*(S0*U**m*D**(N-m)-E),0)    \n",
    "    for j in range(N-1,-1,-1):\n",
    "        for m in range(0,j+1):\n",
    "            V_new[m]=(q*V_old[m+1]+(1-q)*V_old[m])/R\n",
    "            V_new[m]=max(V_new[m],max(cp*(S0*U**m*D**(j-m)-E),0))\n",
    "        for m in range(0,j+1):\n",
    "            V_old[m]=V_new[m]\n",
    "    return(V_new[0])\n",
    "    ## V_new[0] is the option price at t=0\n",
    "      \n",
    "print('The American put option price using Leisen-Reimer Parameters is %8.4f' % AMR_putprice_Leisen(S0=100,E=98.5,T=2,N=400,r=0.03,sigma=np.sqrt(0.15),cp=-1)) \n",
    "## finding and printing American put option with parameters \n",
    "## S0=100,E=98.50,T=2,N=1000,r=0.03,sigma=np.sqrt(0.15),cp=-1."
   ]
  },
  {
   "cell_type": "markdown",
   "metadata": {},
   "source": [
    "#### **At N = 500**  with Leisen-Reimer Method for American option"
   ]
  },
  {
   "cell_type": "code",
   "execution_count": 127,
   "metadata": {},
   "outputs": [
    {
     "name": "stdout",
     "output_type": "stream",
     "text": [
      "The American put option price using Leisen-Reimer Parameters is  97.0969\n"
     ]
    }
   ],
   "source": [
    "import pandas as pd          ## import from module scipy all functions \n",
    "import numpy as np   ## import from module numpy all functions \n",
    "import math      \n",
    "def AMR_putprice_Leisen(S0,E,T,N,r,sigma,cp):      ##  Defining the function AMR_putprice to calculate \n",
    "        ## the price of a American put option\n",
    "    dt=T/N\n",
    "    R=(np.exp(r*dt))\n",
    "    z=1\n",
    "    N=N+1\n",
    "    a=(z**2/(N+1/3+0.1/(N+1))**2)*(N+1/6)\n",
    "    h=0.5+0.5*z*np.sqrt(1-np.exp(-a))\n",
    "    d1=(math.log(S0/E)+(r+0.5*sigma**2)*T)/sigma*np.sqrt(T)\n",
    "    d2=d1-(sigma*np.sqrt(T))\n",
    "    p=r-(0.5*sigma**2)\n",
    "    q_quote=0.5+0.5*z*np.sqrt(1-np.exp(-d1))\n",
    "    q=0.5+0.5*z*np.sqrt(1-np.exp(-d2))\n",
    "    U=(R*q_quote)/q\n",
    "    D=(R-q*U)/(1-q)\n",
    "    ## defining delta_t, parameters U, D, R and risk-neutrall probability q\n",
    "    ## Here we use Leisen-Reimer parameters for U and D.\n",
    "    V_old=np.zeros(N+1)\n",
    "    V_new=np.zeros(N+1)\n",
    "    ## initializing two N+1 dimensional vectors with zeros to store option prices\n",
    "    for m in range(0,N+1):\n",
    "        V_old[m]=max(cp*(S0*U**m*D**(N-m)-E),0)    \n",
    "    for j in range(N-1,-1,-1):\n",
    "        for m in range(0,j+1):\n",
    "            V_new[m]=(q*V_old[m+1]+(1-q)*V_old[m])/R\n",
    "            V_new[m]=max(V_new[m],max(cp*(S0*U**m*D**(j-m)-E),0))\n",
    "        for m in range(0,j+1):\n",
    "            V_old[m]=V_new[m]\n",
    "    return(V_new[0])\n",
    "    ## V_new[0] is the option price at t=0\n",
    "      \n",
    "print('The American put option price using Leisen-Reimer Parameters is %8.4f' % AMR_putprice_Leisen(S0=100,E=98.5,T=2,N=500,r=0.03,sigma=np.sqrt(0.15),cp=-1)) \n",
    "## finding and printing American put option with parameters \n",
    "## S0=100,E=98.50,T=2,N=1000,r=0.03,sigma=np.sqrt(0.15),cp=-1."
   ]
  },
  {
   "cell_type": "markdown",
   "metadata": {},
   "source": [
    "## Comment on the American option using( CRR - Jarrow-Rudd - Leisen-Reimer ) Method at N=300, 400, 500:\n",
    "\n",
    "\n",
    "- For CRR Method: We can see that the American option price at N = 300, 400, 500 are 18.0115, 18.0114, 18.0107 respectively.\n",
    "\n",
    "- For Jarrow-Rudd Method: We can see that the American option price at N = 300, 400, 500 are 18.0096, 18.0144, 18.0130 respectively.\n",
    "\n",
    "- For Leisen-Reimer Method: We can see that the American option price at N = 300, 400, 500 are 96.0968, 96.7626, 97.0969 respectively. (Based on the interesting note in the page 97, the model parameters for this method helps in order to achieve faster convergence)."
   ]
  }
 ],
 "metadata": {
  "kernelspec": {
   "display_name": "Python 3",
   "language": "python",
   "name": "python3"
  },
  "language_info": {
   "codemirror_mode": {
    "name": "ipython",
    "version": 3
   },
   "file_extension": ".py",
   "mimetype": "text/x-python",
   "name": "python",
   "nbconvert_exporter": "python",
   "pygments_lexer": "ipython3",
   "version": "3.7.6"
  }
 },
 "nbformat": 4,
 "nbformat_minor": 4
}
